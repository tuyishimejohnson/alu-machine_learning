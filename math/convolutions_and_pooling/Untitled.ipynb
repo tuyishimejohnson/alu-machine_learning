{
 "cells": [
  {
   "cell_type": "code",
   "execution_count": 1,
   "id": "9b5aa7b6-ab88-400a-a605-ab83f11bcc59",
   "metadata": {},
   "outputs": [
    {
     "ename": "AttributeError",
     "evalue": "module '0-convolve_grayscale_valid' has no attribute 'convolve_grayscale_valid'",
     "output_type": "error",
     "traceback": [
      "\u001b[1;31m---------------------------------------------------------------------------\u001b[0m",
      "\u001b[1;31mAttributeError\u001b[0m                            Traceback (most recent call last)",
      "Cell \u001b[1;32mIn[1], line 5\u001b[0m\n\u001b[0;32m      3\u001b[0m \u001b[38;5;28;01mimport\u001b[39;00m \u001b[38;5;21;01mmatplotlib\u001b[39;00m\u001b[38;5;21;01m.\u001b[39;00m\u001b[38;5;21;01mpyplot\u001b[39;00m \u001b[38;5;28;01mas\u001b[39;00m \u001b[38;5;21;01mplt\u001b[39;00m\n\u001b[0;32m      4\u001b[0m \u001b[38;5;28;01mimport\u001b[39;00m \u001b[38;5;21;01mnumpy\u001b[39;00m \u001b[38;5;28;01mas\u001b[39;00m \u001b[38;5;21;01mnp\u001b[39;00m\n\u001b[1;32m----> 5\u001b[0m convolve_grayscale_valid \u001b[38;5;241m=\u001b[39m \u001b[38;5;28m__import__\u001b[39m(\u001b[38;5;124m'\u001b[39m\u001b[38;5;124m0-convolve_grayscale_valid\u001b[39m\u001b[38;5;124m'\u001b[39m)\u001b[38;5;241m.\u001b[39mconvolve_grayscale_valid\n\u001b[0;32m      8\u001b[0m \u001b[38;5;28;01mif\u001b[39;00m \u001b[38;5;18m__name__\u001b[39m \u001b[38;5;241m==\u001b[39m \u001b[38;5;124m'\u001b[39m\u001b[38;5;124m__main__\u001b[39m\u001b[38;5;124m'\u001b[39m:\n\u001b[0;32m     10\u001b[0m     dataset \u001b[38;5;241m=\u001b[39m np\u001b[38;5;241m.\u001b[39mload(\u001b[38;5;124m'\u001b[39m\u001b[38;5;124m../../supervised_learning/data/MNIST.npz\u001b[39m\u001b[38;5;124m'\u001b[39m)\n",
      "\u001b[1;31mAttributeError\u001b[0m: module '0-convolve_grayscale_valid' has no attribute 'convolve_grayscale_valid'"
     ]
    }
   ],
   "source": [
    "#!/usr/bin/env python3\n",
    "\n",
    "import matplotlib.pyplot as plt\n",
    "import numpy as np\n",
    "convolve_grayscale_valid = __import__('0-convolve_grayscale_valid').convolve_grayscale_valid\n",
    "\n",
    "\n",
    "if __name__ == '__main__':\n",
    "\n",
    "    dataset = np.load('../../supervised_learning/data/MNIST.npz')\n",
    "    images = dataset['X_train']\n",
    "    print(images.shape)\n",
    "    kernel = np.array([[1 ,0, -1], [1, 0, -1], [1, 0, -1]])\n",
    "    images_conv = convolve_grayscale_valid(images, kernel)\n",
    "    print(images_conv.shape)\n",
    "\n",
    "    plt.imshow(images[0], cmap='gray')\n",
    "    plt.show()\n",
    "    plt.imshow(images_conv[0], cmap='gray')\n",
    "    plt.show()\n",
    "    "
   ]
  },
  {
   "cell_type": "code",
   "execution_count": null,
   "id": "18cb9880-9e8d-45e9-9437-6c854c841b0a",
   "metadata": {},
   "outputs": [],
   "source": []
  }
 ],
 "metadata": {
  "kernelspec": {
   "display_name": "Python 3 (ipykernel)",
   "language": "python",
   "name": "python3"
  },
  "language_info": {
   "codemirror_mode": {
    "name": "ipython",
    "version": 3
   },
   "file_extension": ".py",
   "mimetype": "text/x-python",
   "name": "python",
   "nbconvert_exporter": "python",
   "pygments_lexer": "ipython3",
   "version": "3.11.7"
  }
 },
 "nbformat": 4,
 "nbformat_minor": 5
}
